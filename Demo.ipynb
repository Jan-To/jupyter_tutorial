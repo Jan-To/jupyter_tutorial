{
 "cells": [
  {
   "cell_type": "markdown",
   "metadata": {},
   "source": [
    "#### Two different types of cells:\n",
    "\n",
    "1. Code cells (execute python)\n",
    "2. Markdown cells"
   ]
  },
  {
   "cell_type": "code",
   "execution_count": 4,
   "metadata": {},
   "outputs": [
    {
     "name": "stdout",
     "output_type": "stream",
     "text": [
      "[1, 2, 3]\n"
     ]
    }
   ],
   "source": [
    "data = [1, 2, 3]\n",
    "print(data)"
   ]
  },
  {
   "cell_type": "code",
   "execution_count": 5,
   "metadata": {},
   "outputs": [
    {
     "ename": "SyntaxError",
     "evalue": "invalid syntax (<ipython-input-5-a9ce78ecf665>, line 1)",
     "output_type": "error",
     "traceback": [
      "\u001b[0;36m  File \u001b[0;32m\"<ipython-input-5-a9ce78ecf665>\"\u001b[0;36m, line \u001b[0;32m1\u001b[0m\n\u001b[0;31m    I am a markdown cell. I can make my text look ***real cool***.\u001b[0m\n\u001b[0m       ^\u001b[0m\n\u001b[0;31mSyntaxError\u001b[0m\u001b[0;31m:\u001b[0m invalid syntax\n"
     ]
    }
   ],
   "source": [
    "I am a markdown cell. I can make my text look ***real cool***."
   ]
  },
  {
   "cell_type": "code",
   "execution_count": 9,
   "metadata": {},
   "outputs": [
    {
     "data": {
      "text/plain": [
       "[1, 2, 3, 5]"
      ]
     },
     "execution_count": 9,
     "metadata": {},
     "output_type": "execute_result"
    }
   ],
   "source": [
    "data+[5]"
   ]
  },
  {
   "cell_type": "markdown",
   "metadata": {},
   "source": [
    "#### Useful shortcuts\n",
    "\n",
    "In edit mode:\n",
    "- `Shift`+`Enter`: Run current cell\n",
    "- `Ctrl`+`S`: Save notebook\n",
    "\n",
    "Outside of edit mode:\n",
    "- `Enter` or `Double Click`: Enter edit mode\n",
    "- `Ctrl`+`/`: Comment / Uncomment line\n",
    "- `Tab`: Code Completion\n",
    "- `S`: Save notebook\n",
    "- `B`: Insert cell below"
   ]
  },
  {
   "cell_type": "markdown",
   "metadata": {},
   "source": [
    "#### Magic commands:\n",
    "\n",
    "- `%time` - Times execution of a cell.\n",
    "- `%who` - Print all interactive variables. `%whos` will list additional info on the variables.\n",
    "- `%load hello_world.py` - Loads in the contents of a file into a cell.\n",
    "- `%store data` - Stores data to be used by other Notebooks. `%store -r data` in a different Notebook will bring in that data to be used.\n",
    "- `%lsmagic` - List out all the magic commands.\n",
    "\n",
    "To learn about any magic command, run the magic command with a `?` at the end. For instance `%time?`.\n",
    "\n",
    "You can also run bash commands by having `!` before a bash command. For instance `!ls`."
   ]
  },
  {
   "cell_type": "code",
   "execution_count": null,
   "metadata": {},
   "outputs": [],
   "source": []
  }
 ],
 "metadata": {
  "kernelspec": {
   "display_name": "Python 3",
   "language": "python",
   "name": "python3"
  },
  "language_info": {
   "codemirror_mode": {
    "name": "ipython",
    "version": 3
   },
   "file_extension": ".py",
   "mimetype": "text/x-python",
   "name": "python",
   "nbconvert_exporter": "python",
   "pygments_lexer": "ipython3",
   "version": "3.7.7"
  }
 },
 "nbformat": 4,
 "nbformat_minor": 4
}
