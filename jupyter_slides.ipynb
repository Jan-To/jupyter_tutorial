{
 "cells": [
  {
   "cell_type": "markdown",
   "metadata": {
    "slideshow": {
     "slide_type": "slide"
    }
   },
   "source": [
    "![jupyter](https://jupyter.org/assets/try/jupyter.png \"Jupyter\")\n",
    "\n",
    "# Introduction to Jupyter Notebook\n",
    "\n",
    "A talk by Jan-Tobias Sohns.\n",
    "\n",
    "\n",
    "\n",
    "<p>Visual Information Analysis Group, TU Kaiserslautern<img src=\"images/via_logo.png\" alt=\"Logo\" align=\"right\" >\n",
    "</p>\n",
    "\n",
    "Email: j_sohns12@cs.uni-kl.de"
   ]
  },
  {
   "cell_type": "markdown",
   "metadata": {
    "slideshow": {
     "slide_type": "slide"
    }
   },
   "source": [
    "## Learnings of this lecture:\n",
    "\n",
    "- Jupyter notebook\n",
    "    - What\n",
    "    - Why\n",
    "    - How\n",
    "- Coding data visualization\n",
    "    - Python\n",
    "    - Pandas\n",
    "    - Bokeh"
   ]
  },
  {
   "cell_type": "markdown",
   "metadata": {
    "slideshow": {
     "slide_type": "slide"
    }
   },
   "source": [
    "## What is Jupyter Notebook?\n",
    "\n",
    "Web-based application for prototyping, documenting and sharing code\n",
    "<img src=\"images/code-and-jupyter.png\" alt=\"Code vs. Jupyter\" align=\"center\" width=700>"
   ]
  },
  {
   "cell_type": "markdown",
   "metadata": {
    "slideshow": {
     "slide_type": "slide"
    }
   },
   "source": [
    "## Why use Jupyter Notebook?\n",
    "\n",
    "***Jupyter notebooks will make your life easier!*** \n",
    "\n",
    "- Run Python code in your web browser interactively\n",
    "- Edit and re-run parts of your code in no time\n",
    "- Use helpful IPython extensions for debugging + styling\n",
    "- Document your code for a transparent workflow\n",
    "- Share interactive python code\n",
    "\n",
    "The *perfect* solution for a data scientist!"
   ]
  },
  {
   "cell_type": "markdown",
   "metadata": {
    "slideshow": {
     "slide_type": "slide"
    }
   },
   "source": [
    "## How Jupyter Notebook works\n",
    "\n",
    "<img src=\"images/schema.svg\" alt=\"Jupyter Schema\" align=\"center\" width=700>\n",
    "\n",
    "- `jupyter notebook` starts server and browser client\n",
    "- selecting a file starts kernel"
   ]
  },
  {
   "cell_type": "markdown",
   "metadata": {
    "slideshow": {
     "slide_type": "slide"
    }
   },
   "source": [
    "## Live demo: Startup & Cells"
   ]
  },
  {
   "cell_type": "markdown",
   "metadata": {
    "slideshow": {
     "slide_type": "slide"
    }
   },
   "source": [
    "## Introduction to Python\n",
    "\n",
    "- Every variable in Python is an object\n",
    "- No need to declare variables before using them, or declare their type. "
   ]
  },
  {
   "cell_type": "code",
   "execution_count": null,
   "metadata": {
    "slideshow": {
     "slide_type": "-"
    }
   },
   "outputs": [],
   "source": [
    "number = 42\n",
    "pi = 3.14\n",
    "word = 'towel'\n",
    "print(type(number))\n",
    "print(isinstance(pi, float))\n",
    "type(word)"
   ]
  },
  {
   "cell_type": "markdown",
   "metadata": {
    "slideshow": {
     "slide_type": "slide"
    }
   },
   "source": [
    "### Lists"
   ]
  },
  {
   "cell_type": "code",
   "execution_count": null,
   "metadata": {
    "slideshow": {
     "slide_type": "-"
    }
   },
   "outputs": [],
   "source": [
    "item_list = ['towel', 3.14, number]\n",
    "print(item_list)\n",
    "item_list[1]"
   ]
  },
  {
   "cell_type": "markdown",
   "metadata": {
    "slideshow": {
     "slide_type": "fragment"
    }
   },
   "source": [
    "### Dictionaries"
   ]
  },
  {
   "cell_type": "code",
   "execution_count": null,
   "metadata": {
    "slideshow": {
     "slide_type": "-"
    }
   },
   "outputs": [],
   "source": [
    "phonebook_dictionary = {\n",
    "    \"John\" : 938477566,\n",
    "    \"Jack\" : 938377264,\n",
    "    \"Jill\" : 947662781\n",
    "}\n",
    "print(phonebook_dictionary)\n",
    "phonebook_dictionary[\"Jack\"]"
   ]
  },
  {
   "cell_type": "markdown",
   "metadata": {
    "slideshow": {
     "slide_type": "slide"
    }
   },
   "source": [
    "### Conditions"
   ]
  },
  {
   "cell_type": "code",
   "execution_count": null,
   "metadata": {},
   "outputs": [],
   "source": [
    "if number == 42 and pi is not 42:\n",
    "    print(\"Is 42 in item_list?\", number in item_list)\n",
    "else:\n",
    "    print(\"No answer today\")"
   ]
  },
  {
   "cell_type": "markdown",
   "metadata": {
    "slideshow": {
     "slide_type": "slide"
    }
   },
   "source": [
    "### Loops"
   ]
  },
  {
   "cell_type": "code",
   "execution_count": null,
   "metadata": {},
   "outputs": [],
   "source": [
    "for item in item_list:\n",
    "    print(item)"
   ]
  },
  {
   "cell_type": "code",
   "execution_count": null,
   "metadata": {},
   "outputs": [],
   "source": [
    "for x in range(4):\n",
    "    if x is 2: \n",
    "        continue\n",
    "    print(x)"
   ]
  },
  {
   "cell_type": "code",
   "execution_count": null,
   "metadata": {},
   "outputs": [],
   "source": [
    "while x < 10:\n",
    "    x += 1\n",
    "    print(x)\n",
    "    if x is 6:\n",
    "        break"
   ]
  },
  {
   "cell_type": "markdown",
   "metadata": {
    "slideshow": {
     "slide_type": "slide"
    }
   },
   "source": [
    "### Functions"
   ]
  },
  {
   "cell_type": "code",
   "execution_count": null,
   "metadata": {},
   "outputs": [],
   "source": [
    "def my_function(my_arg):\n",
    "    print(my_arg)\n",
    "    \n",
    "my_function('towel')"
   ]
  },
  {
   "cell_type": "markdown",
   "metadata": {
    "slideshow": {
     "slide_type": "fragment"
    }
   },
   "source": [
    "### Classes"
   ]
  },
  {
   "cell_type": "code",
   "execution_count": null,
   "metadata": {},
   "outputs": [],
   "source": [
    "class MyClass:\n",
    "    variable = \"towel\"\n",
    "\n",
    "    def my_class_function(self, my_arg):\n",
    "        print(\"Class var:\", self.variable, \", my_arg:\", my_arg)\n",
    "\n",
    "x = MyClass()\n",
    "x.my_class_function(42)"
   ]
  },
  {
   "cell_type": "markdown",
   "metadata": {
    "slideshow": {
     "slide_type": "slide"
    }
   },
   "source": [
    "### Libraries\n",
    "\n",
    "- arrays, matrices, vectorization: ***numpy***\n",
    "- tabular data, processing, analysis: ***pandas***\n",
    "- machine learning: ***scikit-learn***, *tensorflow*, *pytorch*\n",
    "- visualization: ***bokeh***, *altair*, *plotly*, *seaborn*, *matplotlib*"
   ]
  },
  {
   "cell_type": "code",
   "execution_count": null,
   "metadata": {},
   "outputs": [],
   "source": [
    "# GOOD:\n",
    "import numpy as np\n",
    "import numpy.random as rnd\n",
    "\n",
    "# Global variables:\n",
    "data_x = np.array([1,2,3])\n",
    "data_y = rnd.random(3)"
   ]
  },
  {
   "cell_type": "markdown",
   "metadata": {
    "slideshow": {
     "slide_type": "slide"
    }
   },
   "source": [
    "## Introduction to Pandas"
   ]
  },
  {
   "cell_type": "markdown",
   "metadata": {},
   "source": [
    "### Loading data\n",
    "\n",
    "- from SQL: via the `sqlite3` package\n",
    "- from csv / excel: with pandas"
   ]
  },
  {
   "cell_type": "code",
   "execution_count": null,
   "metadata": {},
   "outputs": [],
   "source": [
    "import pandas as pd\n",
    "\n",
    "df = pd.read_csv('exams.csv')\n",
    "df"
   ]
  },
  {
   "cell_type": "markdown",
   "metadata": {
    "slideshow": {
     "slide_type": "slide"
    }
   },
   "source": [
    "### DataFrames"
   ]
  },
  {
   "cell_type": "code",
   "execution_count": null,
   "metadata": {},
   "outputs": [],
   "source": [
    "df"
   ]
  },
  {
   "cell_type": "code",
   "execution_count": null,
   "metadata": {},
   "outputs": [],
   "source": [
    "df.dtypes # note that 'DateTime' and 'String' could not be auto-inferred"
   ]
  },
  {
   "cell_type": "code",
   "execution_count": null,
   "metadata": {},
   "outputs": [],
   "source": [
    "# convert student_id to string\n",
    "df['class'] = df['class'].astype(str)\n",
    "df['student_id'] = df['student_id'].astype(str)"
   ]
  },
  {
   "cell_type": "markdown",
   "metadata": {
    "slideshow": {
     "slide_type": "slide"
    }
   },
   "source": [
    "### Viewing a DataFrame"
   ]
  },
  {
   "cell_type": "code",
   "execution_count": null,
   "metadata": {
    "slideshow": {
     "slide_type": "-"
    }
   },
   "outputs": [],
   "source": [
    "df.head(3) # gives the first 3 rows"
   ]
  },
  {
   "cell_type": "code",
   "execution_count": null,
   "metadata": {},
   "outputs": [],
   "source": [
    "df.tail(2) # gives the last 2 rows"
   ]
  },
  {
   "cell_type": "code",
   "execution_count": null,
   "metadata": {},
   "outputs": [],
   "source": [
    "df.shape # gives the dimensions"
   ]
  },
  {
   "cell_type": "code",
   "execution_count": null,
   "metadata": {},
   "outputs": [],
   "source": [
    "df.columns # gives the column names"
   ]
  },
  {
   "cell_type": "code",
   "execution_count": null,
   "metadata": {},
   "outputs": [],
   "source": [
    "df"
   ]
  },
  {
   "cell_type": "markdown",
   "metadata": {
    "slideshow": {
     "slide_type": "slide"
    }
   },
   "source": [
    "### Indexing DataFrames"
   ]
  },
  {
   "cell_type": "code",
   "execution_count": null,
   "metadata": {},
   "outputs": [],
   "source": [
    "df"
   ]
  },
  {
   "cell_type": "code",
   "execution_count": null,
   "metadata": {},
   "outputs": [],
   "source": [
    "df = df.set_index('id')\n",
    "df"
   ]
  },
  {
   "cell_type": "markdown",
   "metadata": {
    "slideshow": {
     "slide_type": "slide"
    }
   },
   "source": [
    "Selection by label:"
   ]
  },
  {
   "cell_type": "code",
   "execution_count": null,
   "metadata": {
    "scrolled": true
   },
   "outputs": [],
   "source": [
    "df.date # column='date'"
   ]
  },
  {
   "cell_type": "code",
   "execution_count": null,
   "metadata": {},
   "outputs": [],
   "source": [
    "df['date']"
   ]
  },
  {
   "cell_type": "code",
   "execution_count": null,
   "metadata": {},
   "outputs": [],
   "source": [
    "df.loc[4,'grade'] # row_index='4', column='grade'"
   ]
  },
  {
   "cell_type": "markdown",
   "metadata": {
    "slideshow": {
     "slide_type": "slide"
    }
   },
   "source": [
    "Selection by position:"
   ]
  },
  {
   "cell_type": "code",
   "execution_count": null,
   "metadata": {},
   "outputs": [],
   "source": [
    "df.iloc[4] # row=4"
   ]
  },
  {
   "cell_type": "code",
   "execution_count": null,
   "metadata": {},
   "outputs": [],
   "source": [
    "df.iloc[4,3] # row=4, column=3 ('grade')"
   ]
  },
  {
   "cell_type": "code",
   "execution_count": null,
   "metadata": {},
   "outputs": [],
   "source": [
    "df"
   ]
  },
  {
   "cell_type": "markdown",
   "metadata": {
    "slideshow": {
     "slide_type": "slide"
    }
   },
   "source": [
    "Selection by value:"
   ]
  },
  {
   "cell_type": "code",
   "execution_count": null,
   "metadata": {},
   "outputs": [],
   "source": [
    "df[df['grade']>3.0]"
   ]
  },
  {
   "cell_type": "code",
   "execution_count": null,
   "metadata": {},
   "outputs": [],
   "source": [
    "df"
   ]
  },
  {
   "cell_type": "markdown",
   "metadata": {
    "slideshow": {
     "slide_type": "slide"
    }
   },
   "source": [
    "### Analysis in pandas"
   ]
  },
  {
   "cell_type": "code",
   "execution_count": null,
   "metadata": {},
   "outputs": [],
   "source": [
    "df.describe() # gives statistical summary"
   ]
  },
  {
   "cell_type": "code",
   "execution_count": null,
   "metadata": {},
   "outputs": [],
   "source": [
    "df.mean() # mean of each column"
   ]
  },
  {
   "cell_type": "code",
   "execution_count": null,
   "metadata": {
    "slideshow": {
     "slide_type": "slide"
    }
   },
   "outputs": [],
   "source": [
    "df.groupby('class').size() # group rows by exam and print the size of the groups"
   ]
  },
  {
   "cell_type": "code",
   "execution_count": null,
   "metadata": {},
   "outputs": [],
   "source": [
    "df.groupby('class').grade.mean() # average grade per class"
   ]
  },
  {
   "cell_type": "markdown",
   "metadata": {
    "slideshow": {
     "slide_type": "slide"
    }
   },
   "source": [
    "## Introduction to Bokeh\n",
    "\n",
    "Interactive, highly customizable plotting!"
   ]
  },
  {
   "cell_type": "code",
   "execution_count": null,
   "metadata": {},
   "outputs": [],
   "source": [
    "from bokeh.plotting import output_notebook, figure, show\n",
    "output_notebook() # output in notebook\n",
    "\n",
    "# create a new plot\n",
    "p = figure(x_axis_label='grade', y_axis_label='credits', plot_width=310, plot_height=300)\n",
    "\n",
    "# add scatter points\n",
    "p.circle(source=df, x='grade', y='credits')\n",
    "\n",
    "# display plot\n",
    "show(p)"
   ]
  },
  {
   "cell_type": "markdown",
   "metadata": {
    "slideshow": {
     "slide_type": "slide"
    }
   },
   "source": [
    "Bokeh comes with a lot of styling options, allowing you to create the plot of your choice!"
   ]
  },
  {
   "cell_type": "code",
   "execution_count": null,
   "metadata": {
    "scrolled": true
   },
   "outputs": [],
   "source": [
    "from bokeh.models import CategoricalColorMapper\n",
    "from bokeh.palettes import RdBu3\n",
    "\n",
    "# create map from student_id to color\n",
    "color_mapper = CategoricalColorMapper(factors=sorted(df.student_id.unique()), \n",
    "                                      palette=[RdBu3[2], RdBu3[0]])\n",
    "\n",
    "# create a new plot with a title and tooltips\n",
    "p = figure(title=\"student performance\", x_axis_label='grade',\n",
    "           y_axis_label='credit', plot_width=310, plot_height=300,\n",
    "           tools=[\"wheel_zoom,pan,hover\"], tooltips=[(\"student\", \"@student_id\"),\n",
    "           (\"class\", \"@class\"), (\"date\", \"@date\")])\n",
    "\n",
    "# add colormapped scatter points\n",
    "p.circle(source=df, x='grade', y='credits', legend_field=\"student_id\",\n",
    "         color={'field': 'student_id', 'transform': color_mapper}, \n",
    "         fill_alpha=0.8, size=10)\n",
    "\n",
    "# change plot styling\n",
    "p.legend.location = 'bottom_right'\n",
    "\n",
    "show(p)"
   ]
  },
  {
   "cell_type": "code",
   "execution_count": null,
   "metadata": {
    "slideshow": {
     "slide_type": "slide"
    }
   },
   "outputs": [],
   "source": [
    "from bokeh.models import LogColorMapper, ColorBar, LogTicker\n",
    "from bokeh.palettes import Viridis6 as palette\n",
    "import examples\n",
    "\n",
    "# create logarithmic map from unemployment rate to color\n",
    "palette = tuple(reversed(palette))\n",
    "color_mapper = LogColorMapper(palette=palette)\n",
    "\n",
    "# prepare data\n",
    "data = examples.prepare_unemployment_data()\n",
    "\n",
    "# create plot\n",
    "p = figure(title=\"Texas Unemployment Rates in %, 2009\", \n",
    "           plot_width= 360, plot_height=300, tools=\"pan,wheel_zoom,reset\",\n",
    "           x_axis_location=None, y_axis_location=None)\n",
    "\n",
    "p.patches('x', 'y', source=data,\n",
    "          fill_color={'field': 'rate', 'transform': color_mapper}, \n",
    "          line_color=\"white\", line_width=0.5)\n",
    "\n",
    "p.add_layout(ColorBar(color_mapper=color_mapper, location=(0,0)), 'right')\n",
    "p.grid.grid_line_color = None\n",
    "\n",
    "show(p)"
   ]
  },
  {
   "cell_type": "code",
   "execution_count": null,
   "metadata": {
    "scrolled": true,
    "slideshow": {
     "slide_type": "slide"
    }
   },
   "outputs": [],
   "source": [
    "show(examples.antibiotics_plot())"
   ]
  },
  {
   "cell_type": "markdown",
   "metadata": {},
   "source": [
    "You will discover more Bokeh plots in the exercises."
   ]
  },
  {
   "cell_type": "markdown",
   "metadata": {
    "slideshow": {
     "slide_type": "slide"
    }
   },
   "source": [
    "## What we learned today:\n",
    "\n",
    "- What is jupyter notebook and how to use it\n",
    "- How to use Python, Pandas and Bokeh to create data visualizations\n",
    "\n",
    "## Questions?"
   ]
  }
 ],
 "metadata": {
  "celltoolbar": "Slideshow",
  "kernelspec": {
   "display_name": "Python 3",
   "language": "python",
   "name": "python3"
  },
  "language_info": {
   "codemirror_mode": {
    "name": "ipython",
    "version": 3
   },
   "file_extension": ".py",
   "mimetype": "text/x-python",
   "name": "python",
   "nbconvert_exporter": "python",
   "pygments_lexer": "ipython3",
   "version": "3.7.7"
  }
 },
 "nbformat": 4,
 "nbformat_minor": 4
}
